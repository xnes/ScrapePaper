{
 "cells": [
  {
   "attachments": {},
   "cell_type": "markdown",
   "metadata": {},
   "source": [
    "Bases a procurar:\n",
    "- Sciello\n",
    "- Google Search\n",
    "- IEEE Web of Science\n",
    "- ACM\n",
    "- Arxive\n",
    "\n",
    "Palavras chaves: \n",
    "- Sport analytics\n",
    "- Soccer analytics\n",
    "- Volley analytics\n",
    "- Predição Esportiva\n",
    "- Análise de Desempenho\n",
    "- Performance Stats\n",
    "\n",
    "Analisar títulos, citações, bases disponíveis, veiculo em que foi divulgado, impacto dos mesmos\n"
   ]
  },
  {
   "attachments": {},
   "cell_type": "markdown",
   "metadata": {},
   "source": [
    "### Scielo\n",
    "- Qt resultados:  <div class=\"filterTitle\"> Resultados: <strong id=\"TotalHits\">184</strong> </div>\n",
    "- Título: ('strong', class_='title')\n",
    "- id:   <div id=\"S1517-86922023000100333-scl\" class=\"item\">\n",
    "- Autores: (class_='line authors')\n",
    "- Fonte: (class_='line source')\n",
    "- Resumo: class=\"abstract\"\n",
    "- DOI e downloads: class='line metadata'\n",
    "- linguagem\n",
    "- ano\n",
    "- serie\n",
    "- isbn?\n",
    "\n",
    "Como chamar o page 1 e 2 no url.... "
   ]
  },
  {
   "cell_type": "code",
   "execution_count": 29,
   "metadata": {},
   "outputs": [],
   "source": [
    "import requests\n",
    "from bs4 import BeautifulSoup\n",
    "import re"
   ]
  },
  {
   "cell_type": "code",
   "execution_count": null,
   "metadata": {},
   "outputs": [],
   "source": [
    "URL_scielo = \"https://search.scielo.org/?count=100&from=101&page=2&q=desempenho+esportivo\"\n",
    "\n",
    "# Faça a requisição à página e obtenha o conteúdo HTML\n",
    "page = requests.get(URL_scielo)\n",
    "soup = BeautifulSoup(page.content, \"html.parser\")\n",
    "\n",
    "# Procure por todos os elementos com a class \"result\"\n",
    "results = soup.find_all(class_='line')\n",
    "n_resultados = soup.find(id=\"TotalHits\").text\n",
    "\n",
    "identificadores = soup.find_all('strong', class_='title') #Id e Titulo\n",
    "\n",
    "#IDs dos Papers e seus Titulos\n",
    "i=0\n",
    "for ids in identificadores:\n",
    "    i+=1\n",
    "    ids = str(ids)\n",
    "    resultado = re.search(' id=\"title-(.*?)\">(.*?)<', ids)\n",
    "    pid = resultado.group(1)\n",
    "    titulo = resultado.group(2)\n",
    "    print(i,':', pid,': ',titulo)\n",
    "\n",
    "#Autores dos papers\n",
    "autorias = soup.find_all(class_='line authors')\n",
    "i=0\n",
    "for autores in autorias:\n",
    "    i+=1\n",
    "    autores = autores.text.replace('\\n', '').replace('                                            ',' ')\n",
    "    print(i,': ', autores)\n",
    "\n",
    "resumo = soup.find(class_=\"abstract\", id=\"S1517-86922023000100304-scl_pt\").text.strip()\n",
    "\n",
    "meta = soup.find_all(class_='line metadata')\n",
    "meta[4].text.strip().split('\\n\\n') #tratar se tem https ou downloads: ['https://doi.org/10.15728/bbr.2017.14.3.1', '6157 downloads']\n",
    "\n",
    "fontes = soup.find_all(class_='line source')\n",
    "[x for x in fontes[6].text.replace('\\n','  ').split('  ') if x != '']"
   ]
  },
  {
   "cell_type": "code",
   "execution_count": 107,
   "metadata": {},
   "outputs": [],
   "source": [
    "fontes = soup.find_all(class_='line source')"
   ]
  },
  {
   "cell_type": "code",
   "execution_count": 121,
   "metadata": {},
   "outputs": [
    {
     "data": {
      "text/plain": [
       "['Fisioterapia em Movimento',\n",
       " 'Métricas do periódico',\n",
       " 'Sobre o periódico',\n",
       " 'SciELO Analytics',\n",
       " 'Abr',\n",
       " '2017,',\n",
       " ' Volume',\n",
       " '30',\n",
       " 'Nº',\n",
       " '2',\n",
       " 'Páginas',\n",
       " '413 - 422']"
      ]
     },
     "execution_count": 121,
     "metadata": {},
     "output_type": "execute_result"
    }
   ],
   "source": [
    "[x for x in fontes[6].text.replace('\\n','  ').split('  ') if x != '']"
   ]
  }
 ],
 "metadata": {
  "kernelspec": {
   "display_name": "Python 3",
   "language": "python",
   "name": "python3"
  },
  "language_info": {
   "codemirror_mode": {
    "name": "ipython",
    "version": 3
   },
   "file_extension": ".py",
   "mimetype": "text/x-python",
   "name": "python",
   "nbconvert_exporter": "python",
   "pygments_lexer": "ipython3",
   "version": "3.11.1"
  },
  "orig_nbformat": 4,
  "vscode": {
   "interpreter": {
    "hash": "e2de187e2ac018b1966125b89a9965710f2e135e980700bc64d2907d990fa000"
   }
  }
 },
 "nbformat": 4,
 "nbformat_minor": 2
}
